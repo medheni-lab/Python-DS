{
  "nbformat": 4,
  "nbformat_minor": 0,
  "metadata": {
    "colab": {
      "provenance": []
    },
    "kernelspec": {
      "name": "python3",
      "display_name": "Python 3"
    },
    "language_info": {
      "name": "python"
    }
  },
  "cells": [
    {
      "cell_type": "markdown",
      "source": [
        "#**Data Type and Structures**\n",
        "##**Theory Questions**\n",
        "\n",
        "**1. What are the data structures and why are they important?**\n",
        "\n",
        "* Datastructures are specialized formats of organizing, storing and managing data in computer to enable efficient access and modification. E.g: List, Tuples, Sets, Dictionary.\n",
        "\n",
        "  Data structures importance for its effecient data management, faster code execution, simplifies complex problems, cleaner and readable code, reusability and modularity, essencial for algarithms.\n",
        "\n",
        "**2. Explain the difference between mutable and immutable data types with examples?**\n",
        "\n",
        "* objects in Mutable data types can be changed after creation. e.g: list, dictionaries, sets, etc., whereas objects in immutable data types cannot be changed after creation.e.g: integers, floats, strings, tuples, boolean, etc.,\n",
        "\n",
        "  Mutable data types are useful when data need to be modified whereas immutable data types are used when data need to be remain constant.\n",
        "\n",
        "**3. What are the main differences between lists and tuples in Python?**\n",
        "\n",
        "*\n",
        "  * Elements in a list are mutable whereas, elements in tuples are immutable.\n",
        "  * Lists performance is faster than tuple.\n",
        "  *Lists are used where data need to be changed whereas, tuples are used for fixed data or read only use data.\n",
        "  *Lists are represented by square brackets \"[ ]\" whereas, tuples are represented by parantheses \"( )\".\n",
        "\n",
        "**4. Describe how dictionaries store data?**\n",
        "\n",
        "* * Hashing the key: When we store a key, Python uses abuilt-in hash()* function to convert into a unique number called *Hash code*.\n",
        "  * Storing key-value pairs in buckets: The key and value are stored together in the bucket.\n",
        "  * Retrieving a Value: Hashes the key again, finds the correct bucket and returns the associated value.\n",
        "\n",
        "**5. Why might you use a set instead of a list in Python?**\n",
        "\n",
        "* Resons we use a set instead of a list in python are:\n",
        "  * Automatically removes duplicates.\n",
        "  * Faster membership testing.\n",
        "  * Perform set operations.\n",
        "\n",
        "**6.What is a string in Python, and how is it different from a list?**\n",
        "\n",
        "*  A String is a sequence of characters which are enclosed in quotes. We can use single or double or triple quotes.\n",
        "\n",
        "  * String is immutable where, list is mutable.\n",
        "  * String is enclosed in quotes \" \" whereas, list is enclosed in square brackets [ ].\n",
        "  * String is a sequence of characters and list is a squence of any data types.\n",
        "\n",
        "\n",
        "**7.How do tuples ensure data integrity in Python?**\n",
        "\n",
        "* Tuples are immutable. Tuples cannot be changed after its creation. Data in tuples are unchanged and safe. Hence, tuples ensure data integrity.\n",
        "\n",
        "**8.What is a hash table, and how does it relate to dictionaries in Python?**\n",
        "\n",
        "* Hash table is a data structure the stores key-value pairs and allows fast data access using a key. It uses hashing technique to assign each key a specific location (called an idex) in memory.\n",
        "\n",
        "In Python, the built-in dictionary type is implemented using hash table.\n",
        "Python hashes the keys to determine where to store the values in memory.\n",
        "\n",
        "**9. Can lists contain different data types in Python?**\n",
        "\n",
        "\n",
        "* Yes, in Python, lists can store elements of different types. Lists includes:\n",
        "\n",
        "  * Integers\n",
        "  * Floating point numbers\n",
        "  * Strings\n",
        "  * Boolean\n",
        "  * Dictionaries etc.,\n",
        "\n",
        "\n",
        "**10. Explain why strings are immutable in Python?**\n",
        "\n",
        "* Strings are immutable because they cannot be changed once created.\n",
        "\n",
        "**11. What advantages do dictionaries offer over lists for certain tasks?**\n",
        "\n",
        "* Advantages of dictionaries over lists:\n",
        "\n",
        "  * Key-based access.\n",
        "  * Better organizantion with key-values.\n",
        "  * No need to remember indeces.\n",
        "  * Unordered but dirrect access.\n",
        "\n",
        "**12.Describe a scenario where using a tuple would be preferable over a list?**\n",
        "\n",
        "* Tuple would be preferable over a list while building a mapping application.\n",
        "\n",
        "  GPS coordinates shouldn't change once set.\n",
        "Tuples are faster and use less memory than lists. Hence tuple is preferale as its is immutable.\n",
        "\n",
        "\n",
        "**13. How do sets handle duplicate values in Python?**\n",
        "\n",
        "* A set is an unordered collection of unique elements. If we add duplicate values to the set, Python keeps only one copy.\n",
        "\n",
        "\n",
        "**14. How does the “in” keyword work differently for lists and dictionaries?**\n",
        "\n",
        "*\n",
        "  * The 'in' keyword checkes if a given value exists in the list.\n",
        "  * The 'in' keyword checks if a given key exists in the dictionary.\n",
        "\n",
        "\n",
        "**15. Can you modify the elements of a tuple? Explain why or why not?**\n",
        "\n",
        "* No, We cannot modifiy the elements of a tuple as tuples are immutable.\n",
        "\n",
        "**16. What is a nested dictionary, and give an example of its use case?**\n",
        "\n",
        "* Nested dictionary is a dictionary inside another dictionary.\n",
        "  Eg: Student records, etc.,\n",
        "\n",
        "  In a library called student, each student ID maps to another dictionary holding the student's details.\n",
        "\n",
        "\n",
        "**17. Describe the time complexity of accessing elements in a dictionary?**\n",
        "\n",
        "* Accessing an element in a Python dictionary by key has an average-case time complexity of O(1) — also known as constant time.\n",
        "Dictionaries in Python uses the hash of the key to directly jump to the memory location of the value instead of searching linearly.\n",
        "\n",
        "**18. In what situations are lists preferred over dictionaries?**\n",
        "\n",
        "* Lists are preffered over dictionaries are follow:\n",
        "\n",
        "  * Order matters\n",
        "  * Only need values\n",
        "  * Indexed access\n",
        "  * Iteration access\n",
        "  * Iteration in order\n",
        "  * Duplicates are allowed\n",
        "\n",
        "\n",
        "**19. Why are dictionaries considered unordered, and how does that affect data retrieval?**\n",
        "\n",
        "* Dictionaries are unordered as they were focused on fast access using hashing rather than maintaining order.\n",
        "\n",
        "\n",
        "**20. Explain the difference between a list and a dictionary in terms of data retrieval.**\n",
        "\n",
        "*\n",
        "  * Lists store items in a sequence whereas, dictionaries store items in key-value pairs.\n",
        "  * In lists data is retrived using a numerical index on the other hand in dictionaries data is retrived using key.\n",
        "\n"
      ],
      "metadata": {
        "id": "9c3EImF5IoDr"
      }
    },
    {
      "cell_type": "markdown",
      "source": [
        "#**Practical Questions**"
      ],
      "metadata": {
        "id": "xcmjdb1btlHt"
      }
    },
    {
      "cell_type": "code",
      "source": [
        "# 1. Write a code to create a string with your name and print it?\n",
        "\n",
        "string = \"Medheni\"\n",
        "print(\"My name is: \",string) #To print the given string"
      ],
      "metadata": {
        "colab": {
          "base_uri": "https://localhost:8080/"
        },
        "id": "bElbZoBvtwNz",
        "outputId": "88bab926-3794-479e-f9cb-6a0994f521a0"
      },
      "execution_count": 95,
      "outputs": [
        {
          "output_type": "stream",
          "name": "stdout",
          "text": [
            "My name is:  Medheni\n"
          ]
        }
      ]
    },
    {
      "cell_type": "code",
      "source": [
        "# 2. Write a code to find the length of the string \"Hello World\"?\n",
        "\n",
        "a = \"Hello World\"\n",
        "print(len(a)) # To find length of the string\n"
      ],
      "metadata": {
        "colab": {
          "base_uri": "https://localhost:8080/"
        },
        "id": "QFWJHrRsuj8a",
        "outputId": "4c5fccda-e4bf-49df-b674-118d28d42eba"
      },
      "execution_count": 96,
      "outputs": [
        {
          "output_type": "stream",
          "name": "stdout",
          "text": [
            "11\n"
          ]
        }
      ]
    },
    {
      "cell_type": "code",
      "source": [
        "#3. Write a code to slice the first 3 characters from the string \"Python Programming?\n",
        "\n",
        "text = \"Python Programming\" #creating a string\n",
        "print(\"First 3 characters:\",text[:3]) #slicing first 3 characters\n",
        "\n"
      ],
      "metadata": {
        "colab": {
          "base_uri": "https://localhost:8080/"
        },
        "id": "B39p0gXSu1IX",
        "outputId": "7738b035-b928-4b12-c87b-f016b8e1884a"
      },
      "execution_count": 97,
      "outputs": [
        {
          "output_type": "stream",
          "name": "stdout",
          "text": [
            "First 3 characters: Pyt\n"
          ]
        }
      ]
    },
    {
      "cell_type": "code",
      "source": [
        "# 4. Write a code to convert the string \"hello\" to uppercase?\n",
        "\n",
        "uppercase = \"hello\" #creating a string\n",
        "print(\"Upper case:\", uppercase.upper()) # conversion and print to uppercase"
      ],
      "metadata": {
        "colab": {
          "base_uri": "https://localhost:8080/"
        },
        "id": "vVICxtHJvk5H",
        "outputId": "9a5ad114-c798-406a-b49f-0b0ec578105f"
      },
      "execution_count": 98,
      "outputs": [
        {
          "output_type": "stream",
          "name": "stdout",
          "text": [
            "Upper case: HELLO\n"
          ]
        }
      ]
    },
    {
      "cell_type": "code",
      "source": [
        "# 5. Write a code to replace the word \"apple\" with \"orange\" in the string \"I like apple\"?\n",
        "\n",
        "a = \"I like apple\"  #defining a string\n",
        "\n",
        "new_a = a.replace(\"apple\", \"orange\") #replacing\n",
        "print(new_a)  #print\n"
      ],
      "metadata": {
        "colab": {
          "base_uri": "https://localhost:8080/"
        },
        "id": "BKdRwujFwQ-4",
        "outputId": "14232d5a-6a5a-42d1-e585-010af4b5f614"
      },
      "execution_count": 99,
      "outputs": [
        {
          "output_type": "stream",
          "name": "stdout",
          "text": [
            "I like orange\n"
          ]
        }
      ]
    },
    {
      "cell_type": "code",
      "source": [
        "# 6.Write a code to create a list with numbers 1 to 5 and print it?\n",
        "\n",
        "my_list = [1,2,3,4,5] #defining a list\n",
        "\n",
        "print(\"My list:\", my_list)  #printing then list\n"
      ],
      "metadata": {
        "colab": {
          "base_uri": "https://localhost:8080/"
        },
        "id": "XVKEH4vYxgKZ",
        "outputId": "33d41dd1-dcc0-4b70-9d99-9e536dd7e4a3"
      },
      "execution_count": 100,
      "outputs": [
        {
          "output_type": "stream",
          "name": "stdout",
          "text": [
            "My list: [1, 2, 3, 4, 5]\n"
          ]
        }
      ]
    },
    {
      "cell_type": "code",
      "source": [
        "# 7.Write a code to append the number 10 to the list [1, 2, 3, 4]?\n",
        "\n",
        "my_list = [1,2,3,4]   #defining list\n",
        "my_list.append(10) #adding an element to the list\n",
        "print(\"updated list:\",my_list) #printing the updated list\n"
      ],
      "metadata": {
        "colab": {
          "base_uri": "https://localhost:8080/"
        },
        "id": "pjQzovIQyca1",
        "outputId": "9de19cc0-8901-4c07-a272-a05e211865e7"
      },
      "execution_count": 101,
      "outputs": [
        {
          "output_type": "stream",
          "name": "stdout",
          "text": [
            "updated list: [1, 2, 3, 4, 10]\n"
          ]
        }
      ]
    },
    {
      "cell_type": "code",
      "source": [
        "#8. Write a code to remove the number 3 from the list [1, 2, 3, 4, 5]?\n",
        "numbers = [1,2,3,4,5]\n",
        "numbers.remove(3)\n",
        "print(\"updated list:\", numbers)"
      ],
      "metadata": {
        "colab": {
          "base_uri": "https://localhost:8080/"
        },
        "id": "1Wx5D03VzoTv",
        "outputId": "a574eeb3-c61b-4531-a029-7291fe6f8612"
      },
      "execution_count": 102,
      "outputs": [
        {
          "output_type": "stream",
          "name": "stdout",
          "text": [
            "updated list: [1, 2, 4, 5]\n"
          ]
        }
      ]
    },
    {
      "cell_type": "code",
      "source": [
        "#9. Write a code to access the second element in the list ['a', 'b', 'c', 'd']?\n",
        "\n",
        "list = ['a','b','c','d']\n",
        "\n",
        "print(\"Second element:\", list[1])"
      ],
      "metadata": {
        "colab": {
          "base_uri": "https://localhost:8080/"
        },
        "id": "0EwfCuO30kUM",
        "outputId": "14ca46c0-7ace-452c-b1a2-18a926d9eedc"
      },
      "execution_count": 103,
      "outputs": [
        {
          "output_type": "stream",
          "name": "stdout",
          "text": [
            "Second element: b\n"
          ]
        }
      ]
    },
    {
      "cell_type": "code",
      "source": [
        "#10. Write a code to reverse the list [10, 20, 30, 40, 50].\n",
        "\n",
        "list = [10,20,30,40,50] # creating a list\n",
        "\n",
        "list.reverse() #revrsing the elements\n",
        "\n",
        "print(\"Reversed list:\", list) #printing reversed list"
      ],
      "metadata": {
        "colab": {
          "base_uri": "https://localhost:8080/"
        },
        "id": "Ah5O3KUT4RuA",
        "outputId": "20728957-b466-48b6-c7e9-af5c85c84041"
      },
      "execution_count": 104,
      "outputs": [
        {
          "output_type": "stream",
          "name": "stdout",
          "text": [
            "Reversed list: [50, 40, 30, 20, 10]\n"
          ]
        }
      ]
    },
    {
      "cell_type": "code",
      "source": [
        "#11. Write a code to create a tuple with the elements 100, 200, 300 and print it?\n",
        "\n",
        "tuple = (100,200,300) #creating a tuple\n",
        "print(\"Tuple:\", tuple) #printing the tuple"
      ],
      "metadata": {
        "colab": {
          "base_uri": "https://localhost:8080/"
        },
        "id": "E68KGVtd41Lo",
        "outputId": "fd11ffed-7695-4749-9bbd-c33a4c2b257a"
      },
      "execution_count": 105,
      "outputs": [
        {
          "output_type": "stream",
          "name": "stdout",
          "text": [
            "Tuple: (100, 200, 300)\n"
          ]
        }
      ]
    },
    {
      "cell_type": "code",
      "source": [
        "#12. Write a code to access the second-to-last element of the tuple ('red', 'green', 'blue', 'yellow').\n",
        "\n",
        "tuple = ('red','green','blue')\n",
        "print(\"Second-to-last element of the tuple:\", tuple[-2])\n"
      ],
      "metadata": {
        "colab": {
          "base_uri": "https://localhost:8080/"
        },
        "id": "min2APio5d9d",
        "outputId": "f6776898-fd9a-4bd8-df8c-428736431b4e"
      },
      "execution_count": 106,
      "outputs": [
        {
          "output_type": "stream",
          "name": "stdout",
          "text": [
            "Second-to-last element of the tuple: green\n"
          ]
        }
      ]
    },
    {
      "cell_type": "code",
      "source": [
        "#13. Write a code to find the minimum number in the tuple (10, 20, 5, 15).\n",
        "tuple = (10,20,5,15)\n",
        "print(\"Minimum value of the tuple:\", min(tuple))"
      ],
      "metadata": {
        "colab": {
          "base_uri": "https://localhost:8080/"
        },
        "id": "fOaIqOzU5705",
        "outputId": "55807d7d-d2aa-40f0-d2cf-ff5655f5802c"
      },
      "execution_count": 107,
      "outputs": [
        {
          "output_type": "stream",
          "name": "stdout",
          "text": [
            "Minimum value of the tuple: 5\n"
          ]
        }
      ]
    },
    {
      "cell_type": "code",
      "source": [
        "#14. Write a code to find the index of the element \"cat\" in the tuple ('dog', 'cat', 'rabbit').\n",
        "\n",
        "animals = ('dog','cat','rabbit')\n",
        "print(\"Index of 'cat' in the given tuple:\",animals.index(\"cat\"))"
      ],
      "metadata": {
        "colab": {
          "base_uri": "https://localhost:8080/"
        },
        "id": "67225tdF6ybT",
        "outputId": "aa009ab0-8c1b-4210-dde2-bd9ef710d867"
      },
      "execution_count": 108,
      "outputs": [
        {
          "output_type": "stream",
          "name": "stdout",
          "text": [
            "Index of 'cat' in the given tuple: 1\n"
          ]
        }
      ]
    },
    {
      "cell_type": "code",
      "source": [
        "#15.  Write a code to create a tuple containing three different fruits and check if \"kiwi\" is in it.\n",
        "\n",
        "fruits = ('mango','orange','apple')\n",
        "\n",
        "if 'kiwi' in fruits:\n",
        "  print(\"kiwi is in the tuple\")\n",
        "else:\n",
        "  print(\"OOPS!! \\n'kiwi' is unavailable in the tuple.\")\n"
      ],
      "metadata": {
        "colab": {
          "base_uri": "https://localhost:8080/"
        },
        "id": "oNqPkq467Rlq",
        "outputId": "89bd34f2-a843-488f-a23a-cd2e5c862ae8"
      },
      "execution_count": 109,
      "outputs": [
        {
          "output_type": "stream",
          "name": "stdout",
          "text": [
            "OOPS!! \n",
            "'kiwi' is unavailable in the tuple.\n"
          ]
        }
      ]
    },
    {
      "cell_type": "code",
      "source": [
        "#16.  Write a code to create a set with the elements 'a', 'b', 'c' and print it.\n",
        "\n",
        "elements = {'a','b','c'}\n",
        "print(\"My set:\", elements)"
      ],
      "metadata": {
        "colab": {
          "base_uri": "https://localhost:8080/"
        },
        "id": "rsLue7q48Kbl",
        "outputId": "6a5ce403-5ebd-42c1-ea43-633922c39b87"
      },
      "execution_count": 110,
      "outputs": [
        {
          "output_type": "stream",
          "name": "stdout",
          "text": [
            "My set: {'a', 'b', 'c'}\n"
          ]
        }
      ]
    },
    {
      "cell_type": "code",
      "source": [
        "#17. Write a code to clear all elements from the set {1, 2, 3, 4, 5}.\n",
        "\n",
        "set = {1,2,3,4,5}\n",
        "set.clear()\n",
        "print(\"My set:\", set)"
      ],
      "metadata": {
        "colab": {
          "base_uri": "https://localhost:8080/"
        },
        "id": "N3nan7_P9QrQ",
        "outputId": "c6044822-71ba-4748-e5c6-b583a3df396d"
      },
      "execution_count": 111,
      "outputs": [
        {
          "output_type": "stream",
          "name": "stdout",
          "text": [
            "My set: set()\n"
          ]
        }
      ]
    },
    {
      "cell_type": "code",
      "source": [
        "#18. Write a code to remove the element 4 from the set {1, 2, 3, 4}.\n",
        "\n",
        "set = {1,2,3,4}\n",
        "set.remove(4)\n",
        "set"
      ],
      "metadata": {
        "colab": {
          "base_uri": "https://localhost:8080/"
        },
        "id": "rbSzI3Cz-EIA",
        "outputId": "8d45a6d6-eacc-4572-d07b-4a93713f7373"
      },
      "execution_count": 112,
      "outputs": [
        {
          "output_type": "execute_result",
          "data": {
            "text/plain": [
              "{1, 2, 3}"
            ]
          },
          "metadata": {},
          "execution_count": 112
        }
      ]
    },
    {
      "cell_type": "code",
      "source": [
        "#19. Write a code to find the union of two sets {1, 2, 3} and {3, 4, 5}.\n",
        "\n",
        "a = {1,2,3}\n",
        "b = {3,4,5}\n",
        "print(\"Union of two sets:\", a.union(b))"
      ],
      "metadata": {
        "colab": {
          "base_uri": "https://localhost:8080/"
        },
        "id": "lRyHR96Y-qYk",
        "outputId": "a4d295bd-b13a-414c-d142-ee25cd81e7e2"
      },
      "execution_count": 113,
      "outputs": [
        {
          "output_type": "stream",
          "name": "stdout",
          "text": [
            "Union of two sets: {1, 2, 3, 4, 5}\n"
          ]
        }
      ]
    },
    {
      "cell_type": "code",
      "source": [
        "#20. Write a code to find the intersection of two sets {1, 2, 3} and {2, 3, 4}.\n",
        "a = {1,2,3}\n",
        "b = {3,4,5}\n",
        "print(\"Union of two sets:\", a.intersection(b))\n"
      ],
      "metadata": {
        "colab": {
          "base_uri": "https://localhost:8080/"
        },
        "id": "Ux67nIcx_Q2U",
        "outputId": "3894e00d-d990-4eb2-ef27-6061cdfecc4d"
      },
      "execution_count": 114,
      "outputs": [
        {
          "output_type": "stream",
          "name": "stdout",
          "text": [
            "Union of two sets: {3}\n"
          ]
        }
      ]
    },
    {
      "cell_type": "code",
      "source": [
        "#21. Write a code to create a dictionary with the keys \"name\", \"age\", and \"city\", and print it.\n",
        "\n",
        "dictionary = {\"name\": \"Medheni\", \"age\":30, \"city\": \"Hyderabad\"}\n",
        "print(\"My Dictionary:\", dictionary)"
      ],
      "metadata": {
        "colab": {
          "base_uri": "https://localhost:8080/"
        },
        "id": "EkL7GiJBAAv1",
        "outputId": "1b78a8d3-2c56-456c-9772-5c3bb8b4af5e"
      },
      "execution_count": 116,
      "outputs": [
        {
          "output_type": "stream",
          "name": "stdout",
          "text": [
            "My Dictionary: {'name': 'Medheni', 'age': 30, 'city': 'Hyderabad'}\n"
          ]
        }
      ]
    },
    {
      "cell_type": "code",
      "source": [
        "#22. Write a code to add a new key-value pair \"country\": \"USA\" to the dictionary {'name': 'John', 'age': 25}.\n",
        "\n",
        "dictionary = {\"name\":\"John\", \"age\":25}\n",
        "dictionary[\"country\"]=\"USA\"\n",
        "print(\"Updated dictionary:\", dictionary)"
      ],
      "metadata": {
        "colab": {
          "base_uri": "https://localhost:8080/"
        },
        "id": "XTo6g_8BAW3m",
        "outputId": "d19f4b15-7784-467e-c585-63a163231392"
      },
      "execution_count": 121,
      "outputs": [
        {
          "output_type": "stream",
          "name": "stdout",
          "text": [
            "Updated dictionary: {'name': 'John', 'age': 25, 'country': 'USA'}\n"
          ]
        }
      ]
    },
    {
      "cell_type": "code",
      "source": [
        "#23. Write a code to access the value associated with the key \"name\" in the dictionary {'name': 'Alice', 'age': 30}.\n",
        "\n",
        "Personal_Details={\"name\":\"Alce\", \"age\":30}\n",
        "print(\"Accessing key 'name':\", Personal_Details[\"name\"])"
      ],
      "metadata": {
        "colab": {
          "base_uri": "https://localhost:8080/"
        },
        "id": "qQw6j4mdC4k4",
        "outputId": "30780ac7-e183-4a24-8ec1-c16de2da1ae7"
      },
      "execution_count": 130,
      "outputs": [
        {
          "output_type": "stream",
          "name": "stdout",
          "text": [
            "Accessing key 'name': Alce\n"
          ]
        }
      ]
    },
    {
      "cell_type": "code",
      "source": [
        "#24. Write a code to remove the key \"age\" from the dictionary {'name': 'Bob', 'age': 22, 'city': 'New York'}.\n",
        "\n",
        "Person = {'name':'Bob', 'age':22, 'city':'New York'}\n",
        "Person.pop('age')\n",
        "print(\"Updated dictionary:\", Person)\n"
      ],
      "metadata": {
        "colab": {
          "base_uri": "https://localhost:8080/"
        },
        "id": "xhCTE5_4DZAv",
        "outputId": "955b67a5-08e3-413c-aa39-c9b57efe9dad"
      },
      "execution_count": 135,
      "outputs": [
        {
          "output_type": "stream",
          "name": "stdout",
          "text": [
            "Updated dictionary: {'name': 'Bob', 'city': 'New York'}\n"
          ]
        }
      ]
    },
    {
      "cell_type": "code",
      "source": [
        "#25. Write a code to check if the key \"city\" exists in the dictionary {'name': 'Alice', 'city': 'Paris'}.\n",
        "\n",
        "person = {\"name\":'Alice', \"city\":'Paris'}\n",
        "if 'city' in person:\n",
        "  print(\"The key 'city' exists in the dictionary.\")\n",
        "else:\n",
        "  print(\"The key 'city' does not exist in the dictionary.\")"
      ],
      "metadata": {
        "colab": {
          "base_uri": "https://localhost:8080/"
        },
        "id": "DOHhqq5OFJaE",
        "outputId": "a192a760-290c-4688-9d1a-31fc5550d29f"
      },
      "execution_count": 141,
      "outputs": [
        {
          "output_type": "stream",
          "name": "stdout",
          "text": [
            "The key 'city' exists in the dictionary.\n"
          ]
        }
      ]
    },
    {
      "cell_type": "code",
      "source": [
        "#26. Write a code to create a list, a tuple, and a dictionary, and print them all.\n",
        "\n",
        "list = [1,2,3,4]\n",
        "tuple = (3,4,5,6)\n",
        "dictionary = {\"name\":'Alice', \"city\":'Paris'}\n",
        "print(list, tuple, dictionary)"
      ],
      "metadata": {
        "colab": {
          "base_uri": "https://localhost:8080/"
        },
        "id": "VaOX69ZrGCis",
        "outputId": "aa592f6f-5457-480b-b882-32f71351fd0d"
      },
      "execution_count": 147,
      "outputs": [
        {
          "output_type": "stream",
          "name": "stdout",
          "text": [
            "[1, 2, 3, 4] (3, 4, 5, 6) {'name': 'Alice', 'city': 'Paris'}\n"
          ]
        }
      ]
    },
    {
      "cell_type": "code",
      "source": [
        "#27. Write a code to create a list of 5 random numbers between 1 and 100, sort it in ascending order, and print the\n",
        "list={45,23,67,32,78}\n",
        "list\n",
        "print(\"Replaced list:\", sorted(list))"
      ],
      "metadata": {
        "colab": {
          "base_uri": "https://localhost:8080/"
        },
        "id": "tKB_niHOHJkg",
        "outputId": "287007c5-9fe8-4cc7-dd1b-2ae6487656c9"
      },
      "execution_count": 152,
      "outputs": [
        {
          "output_type": "stream",
          "name": "stdout",
          "text": [
            "Replaced list: [23, 32, 45, 67, 78]\n"
          ]
        }
      ]
    },
    {
      "cell_type": "code",
      "source": [
        "#28. Write a code to create a list with strings and print the element at the third index.\n",
        "list = ['print', 'code', 'string', 'integer', 'pop', 'append']\n",
        "print(\"Element at the third index:\", list[3])"
      ],
      "metadata": {
        "colab": {
          "base_uri": "https://localhost:8080/"
        },
        "id": "rCpSxEbRHcUo",
        "outputId": "7e66eb29-32a0-4b8d-dbfc-65141703e996"
      },
      "execution_count": 155,
      "outputs": [
        {
          "output_type": "stream",
          "name": "stdout",
          "text": [
            "Element at the third index: integer\n"
          ]
        }
      ]
    },
    {
      "cell_type": "code",
      "source": [
        "#29. Write a code to combine two dictionaries into one and print the result.\n",
        "\n",
        "person = {\"name\":'Alice', \"city\":'Paris'}\n",
        "dictionary = {\"age\":25, \"course\":'DS'}\n",
        "\n",
        "combined_dictionary = {**dictionary,**person}\n",
        "print(\"Combined dictionaries:\", combined_dictionary)"
      ],
      "metadata": {
        "colab": {
          "base_uri": "https://localhost:8080/"
        },
        "id": "oncCfRVXJMXl",
        "outputId": "cd512389-0a8f-470c-98b3-b51af643c7c1"
      },
      "execution_count": 163,
      "outputs": [
        {
          "output_type": "stream",
          "name": "stdout",
          "text": [
            "Combined dictionaries: {'age': 25, 'course': 'DS', 'name': 'Alice', 'city': 'Paris'}\n"
          ]
        }
      ]
    },
    {
      "cell_type": "code",
      "source": [
        "#30. Write a code to convert a list of strings into a set.\n",
        "\n",
        "string_list = [\"apple\", \"banana\", \"cherry\", \"apple\", \"banana\"]\n",
        "string_set = {*string_list} #conversion of list to set\n",
        "\n",
        "print(string_set)\n"
      ],
      "metadata": {
        "colab": {
          "base_uri": "https://localhost:8080/"
        },
        "id": "kgHbyXPgJuhH",
        "outputId": "9759b2da-85a6-4037-bffe-a4dbf5ffe98f"
      },
      "execution_count": 175,
      "outputs": [
        {
          "output_type": "stream",
          "name": "stdout",
          "text": [
            "{'apple', 'cherry', 'banana'}\n"
          ]
        }
      ]
    },
    {
      "cell_type": "code",
      "source": [],
      "metadata": {
        "id": "xg2P-Z3iLSip"
      },
      "execution_count": null,
      "outputs": []
    }
  ]
}