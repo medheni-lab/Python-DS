{
  "nbformat": 4,
  "nbformat_minor": 0,
  "metadata": {
    "colab": {
      "provenance": []
    },
    "kernelspec": {
      "name": "python3",
      "display_name": "Python 3"
    },
    "language_info": {
      "name": "python"
    }
  },
  "cells": [
    {
      "cell_type": "code",
      "execution_count": null,
      "metadata": {
        "id": "NOs-dP1dkjJX"
      },
      "outputs": [],
      "source": []
    },
    {
      "cell_type": "markdown",
      "source": [
        "# **OOPS Assignment**\n",
        "## **Theory Questions**\n",
        "\n",
        "**1.What is Object-Oriented Programming (OOP)?**\n",
        "\n",
        "* Object-oriented Programming is paradiagm that organizes software design around object, which contain both data and methods that operate on the data. OOP is characterized by concepts like classes, objects, inheritance, encapsulation, abstraction and polymorphism.\n",
        "\n",
        "**2. What is a class in OOP?**\n",
        "\n",
        "* A class is blueprint for creating objects. It defines common attributes and methods to all ojects of that type.\n",
        "\n",
        "**3.What is an object in OOP?**\n",
        "\n",
        "* An object is an instance of a class with actual value.\n",
        "\n",
        "E.g: mydog = Dog()\n",
        "     mydog.bark()\n",
        "\n",
        "**4.What is the difference between abstraction and encapsulation?**\n",
        "\n",
        "*\n",
        "  * Abstraction hides the implementation details and shows essential features whereas encapsulation hides internal state and restrict direct access.\n",
        "  * Abstraction focus on objects whereas encapsulation focus on data protection.\n",
        "\n",
        "**5.What are dunder methods in Python?**\n",
        "\n",
        "\n",
        "* Dunder is a short for double underscore. It refers to special methods in Python that begin and end with doublescores, like __init__, __str__, __len__,etc.\n",
        "They are also called as magic methods or special methods. They behave like built-in types and easier to debug and represent.\n",
        "\n",
        "**6.Explain concept of inheritance in OOP**\n",
        "\n",
        "* Inheritance allows a class (child/subclass) to inherit the properties and behaviours (attributes and methods) from another class (parent/superclass).\n",
        "\n",
        "\n",
        "**7.What is polymorphism in OOP**\n",
        "\n",
        "* In Object-Oriented Programing, polymorphism means \"many forms\" and it allow abjects of different classes to be treated as objects of common superclass, enabling code reusablity and flexibility.\n",
        "\n",
        "**8.How is encapsulation achieved in Python?**\n",
        "\n",
        "* Encapsulation is achieved by following:\n",
        "  \n",
        "  * Using classes to bundle data and methods: Encapsulation involves grouping related variables(attributes) and functions (methods) into a single unit.\n",
        "  * Access modifiers (convention_based): Uses naming conventions to indicate access level. E.g: Public, private and protected.\n",
        "  * Getter and setter methods(contorolled access): To manage access/modification.\n",
        "\n",
        "\n",
        "**9. What is a constructor in Python?**\n",
        "\n",
        "* In Python, a constructor is a special method used to initialize a newly created object of a class. It's called automatically when you create an instance of a class.\n",
        "It is mainly used to assign values to instance variables.\n",
        "It is named as \"___init_ __\".\n",
        "\n",
        "**10. What are class and static methods in Python?**\n",
        "\n",
        "* *Class Method(@classmethod):* A method that operates on the class is called class method. **cls** is the first argument.\n",
        "class method can access/modify class-level data.\n",
        "* *Static method(@staticmethod):* A method does.nt take cls or self. It's not bound to the class or instance.\n",
        "\n",
        "**11. What is method overloading in Python?**\n",
        "\n",
        "* Method overloading means defining multiple methods with the same name but different parameters (like in Java, C++, etc.).\n",
        "\n",
        "  But in Python, method overloading isn't directly supported — because Python functions can take a variable number of arguments using default values, **args**, and **kwargs**.\n",
        "\n",
        "  So instead of true overloading, we simulate it.\n",
        "\n",
        "**12. What is method overriding in OOP?**\n",
        "\n",
        "* Method overriding occurs when a subclass provides a new implementation of a method that's already defined in its parent class. It replaces the parent method during runtime — this is runtime polymorphism.\n",
        "\n",
        "**13. What is a property decorator in Python?**\n",
        "\n",
        "* The @property decorator lets you use methods like attributes — perfect for encapsulation (hiding internal data) while keeping a clean syntax.\n",
        "\n",
        "  It's a Pythonic way to:\n",
        "\n",
        "  * Create getter methods (to access private attributes)\n",
        "\n",
        "  * Optionally add setter and deleter methods\n",
        "\n",
        "\n",
        "**14. Why is polymorphism important in OOP?**\n",
        "\n",
        "* Polymorphism means \"many forms\" — it allows objects of different classes to be treated as if they are objects of the same class, as long as they follow a common interface (like shared method names).\n",
        "\n",
        "**15. What is an abstract class in Python?**\n",
        "\n",
        "* An abstract class is a blueprint for other classes. It:\n",
        "\n",
        "  * Cannot be instantiated (you can't create objects from it directly)\n",
        "\n",
        "  * May contain abstract methods — methods that are declared but not implemented\n",
        "\n",
        "  * Forces subclasses to implement those abstract methods\n",
        "\n",
        "**16. What are the advantages of OOP?**\n",
        "\n",
        "* Following are the advantages of OOP:\n",
        "1. Modularity\tCode is split into classes — each representing a piece of the system. Easier to manage and scale.\n",
        "2. Reusability\tClasses can be reused in other programs. Inheritance lets you extend existing code without rewriting.\n",
        "3. Encapsulation\tInternal details are hidden. Only necessary parts are exposed — improves security and prevents accidental changes.\n",
        "4. Abstraction\tYou can hide complex logic behind simple interfaces. Focus on what an object does, not how.\n",
        "5. Polymorphism\tOne interface, many implementations — makes code flexible and reduces if/else or type-checking.\n",
        "6. Maintainability\tWell-organized, modular code is easier to debug, extend, and modify.\n",
        "7. Scalability\tOOP systems grow cleanly with your project — add new classes and functionality without breaking old code.\n",
        "8. Real-world modeling\tOOP lets you represent real-world things (like Car, User, Account) in code. It makes design intuitive and relatable.\n",
        "\n",
        "**17. What is the difference between a class variable and an instance variable?**\n",
        "\n",
        "* Class variable is defined as class level, it belongs to the class and accessed via ClassName.var or object.var. Whereas, instance variable is defined inside a method (usually __init__), it belongs to each object and accessed via object.var.\n",
        "  Class variable is used as shared data for all instances and data unique to each instance.\n",
        "\n",
        "**18. What is multiple inheritance in Python?**\n",
        "\n",
        "* In multiple inheritance, a class inherits methods and attributes from more than one parent class. This gives you the flexibility to create a class that inherits behavior from multiple sources.\n",
        "\n",
        "**19. Explain the purpose of ’__str__’ and ‘__repr__’ ‘ methods in Python?**\n",
        "\n",
        "* *str* returns a user-friendly string representation and is used to display the object in a human readable format where as *repr* returns a formal string representation and is used to give an unambigous representation of the object(for debugging)\n",
        "\n",
        "**20. What is the significance of the ‘super()’ function in Python?**\n",
        "\n",
        "* The super() function allows you to:\n",
        "\n",
        "  * Call a method from a parent class, without explicitly referring to the parent class name.\n",
        "\n",
        "  * It’s especially useful in multiple inheritance and when working with method overriding.\n",
        "\n",
        "\n",
        "**21. What is the significance of the __del__ method in Python?**\n",
        "\n",
        "* The __del__ method in Python is a special method (also called a destructor) that is called when an object is about to be destroyed (i.e., when it's no longer needed and is about to be removed from memory).\n",
        "\n",
        "  * Purpose: It's typically used to clean up resources, close files, or release any other resources that an object might be holding onto before it’s destroyed.\n",
        "\n",
        "**22. What is the difference between @staticmethod and @classmethod in Python?**\n",
        "\n",
        "* @staticmethod is not bound to class or instance and is used for methods that don't need to modify or access class/instance data whereas @classmethod is bound to the class (takes clas as the first argument) and is used fr methods that operate on class-level attributes or need to interact with the class.\n",
        "\n",
        "  * First parameter of @staticmethod doesnot accept class or instance reference (self/cls) whereas, cls is the first parameter for @classmethod.\n",
        "\n",
        "**23. How does polymorphism work in Python with inheritance?**\n",
        "\n",
        "* When a subclass inherits from a parent class, it can override methods from the parent class. Polymorphism comes into play when the same method name behaves differently depending on the object (whether it's an instance of the parent or child class).\n",
        "\n",
        "\n",
        "**24. What is method chaining in Python OOP?**\n",
        "\n",
        "* Method chaining is a programming technique where you can call multiple methods on the same object in a single line of code. Each method call returns the object itself (or another object), allowing you to chain subsequent method calls together.\n",
        "\n",
        "In Python, this is typically used in object-oriented programming (OOP) to perform several operations on an object in a concise and readable manner.\n",
        "\n",
        "**25. What is the purpose of the __call__ method in Python?**\n",
        "\n",
        "* In Python, the *call* method allows an instance of a class to be called as if it were a function. This means that when you write obj(), Python will automatically call the obj.*call*() method.\n",
        "\n"
      ],
      "metadata": {
        "id": "cI8Ll4pyknW2"
      }
    },
    {
      "cell_type": "markdown",
      "source": [
        "# **Practical Questions**"
      ],
      "metadata": {
        "id": "G1xRm-7gcmg4"
      }
    },
    {
      "cell_type": "code",
      "source": [
        "#1. Create a parent class Animal with a method speak() that prints a generic message. Create a child class Dog that overrides the speak() method to print \"Bark!\".\n",
        "\n",
        "# Parent class\n",
        "class Animal:\n",
        "    def speak(self):\n",
        "        print(\"The animal makes a sound\")\n",
        "\n",
        "# Child class\n",
        "class Dog(Animal):\n",
        "    def speak(self):\n",
        "        print(\"Bark!\")\n",
        "\n",
        "# Example\n",
        "generic_animal = Animal()\n",
        "generic_animal.speak()\n",
        "\n",
        "dog = Dog()\n",
        "dog.speak()\n"
      ],
      "metadata": {
        "colab": {
          "base_uri": "https://localhost:8080/"
        },
        "id": "RwNv7pqzcv9Y",
        "outputId": "eb61a424-5f2f-4f19-8e52-f8d4ef78c7b4"
      },
      "execution_count": 1,
      "outputs": [
        {
          "output_type": "stream",
          "name": "stdout",
          "text": [
            "The animal makes a sound\n",
            "Bark!\n"
          ]
        }
      ]
    },
    {
      "cell_type": "code",
      "source": [
        "#2. Write a program to create an abstract class Shape with a method area(). Derive classes Circle and Rectangle from it and implement the area() method in both.\n",
        "\n",
        "from abc import ABC, abstractmethod\n",
        "import math\n",
        "\n",
        "# Abstract Base Class\n",
        "class Shape(ABC):\n",
        "    @abstractmethod\n",
        "    def area(self):\n",
        "        pass\n",
        "\n",
        "# Derived class: Circle\n",
        "class Circle(Shape):\n",
        "    def __init__(self, radius):\n",
        "        self.radius = radius\n",
        "\n",
        "    def area(self):\n",
        "        return math.pi * self.radius * self.radius\n",
        "\n",
        "# Derived class: Rectangle\n",
        "class Rectangle(Shape):\n",
        "    def __init__(self, width, height):\n",
        "        self.width = width\n",
        "        self.height = height\n",
        "\n",
        "    def area(self):\n",
        "        return self.width * self.height\n",
        "\n",
        "# Example\n",
        "circle = Circle(5)\n",
        "rectangle = Rectangle(7, 6)\n",
        "\n",
        "print(f\"Circle Area: {circle.area():.2f}\")\n",
        "print(f\"Rectangle Area: {rectangle.area()}\")\n",
        "\n"
      ],
      "metadata": {
        "colab": {
          "base_uri": "https://localhost:8080/"
        },
        "id": "eCX09M7jdCKY",
        "outputId": "a8a23623-5f2a-47d3-b7de-31f40ce0e320"
      },
      "execution_count": 3,
      "outputs": [
        {
          "output_type": "stream",
          "name": "stdout",
          "text": [
            "Circle Area: 78.54\n",
            "Rectangle Area: 42\n"
          ]
        }
      ]
    },
    {
      "cell_type": "code",
      "source": [
        "#3. Implement a multi-level inheritance scenario where a class Vehicle has an attribute type. Derive a class Car and further derive a class ElectricCar that adds a battery attribute.\n",
        "\n",
        "# Base class\n",
        "class Vehicle:\n",
        "    def __init__(self, vehicle_type):\n",
        "        self.vehicle_type = vehicle_type\n",
        "\n",
        "    def show_type(self):\n",
        "        print(f\"Vehicle type: {self.vehicle_type}\")\n",
        "\n",
        "# Derived class from Vehicle\n",
        "class Car(Vehicle):\n",
        "    def __init__(self, vehicle_type, brand):\n",
        "        super().__init__(vehicle_type)\n",
        "        self.brand = brand\n",
        "\n",
        "    def show_brand(self):\n",
        "        print(f\"Car brand: {self.brand}\")\n",
        "\n",
        "# Further derived class from Car\n",
        "class ElectricCar(Car):\n",
        "    def __init__(self, vehicle_type, brand, battery_capacity):\n",
        "        super().__init__(vehicle_type, brand)\n",
        "        self.battery_capacity = battery_capacity\n",
        "\n",
        "    def show_battery(self):\n",
        "        print(f\"Battery capacity: {self.battery_capacity} kWh\")\n",
        "\n",
        "# Example\n",
        "tesla = ElectricCar(\"Electric\", \"Tesla\", 75)\n",
        "tesla.show_type()\n",
        "tesla.show_brand()\n",
        "tesla.show_battery()\n"
      ],
      "metadata": {
        "colab": {
          "base_uri": "https://localhost:8080/"
        },
        "id": "66ixY86hdf_e",
        "outputId": "17489d24-7473-4e6f-c032-d90435dc6f81"
      },
      "execution_count": 4,
      "outputs": [
        {
          "output_type": "stream",
          "name": "stdout",
          "text": [
            "Vehicle type: Electric\n",
            "Car brand: Tesla\n",
            "Battery capacity: 75 kWh\n"
          ]
        }
      ]
    },
    {
      "cell_type": "code",
      "source": [
        "#4. Demonstrate polymorphism by creating a base class Bird with a method fly(). Create two derived classes Sparrow and Penguin that override the fly() method.\n",
        "\n",
        "# Base class\n",
        "class Bird:\n",
        "    def fly(self):\n",
        "        print(\"Some birds can fly.\")\n",
        "\n",
        "# Derived class: Sparrow\n",
        "class Sparrow(Bird):\n",
        "    def fly(self):\n",
        "        print(\"Sparrow flies high in the sky.\")\n",
        "\n",
        "# Derived class: Penguin\n",
        "class Penguin(Bird):\n",
        "    def fly(self):\n",
        "        print(\"Penguins can't fly, they swim instead.\")\n",
        "\n",
        "# Example of polymorphism\n",
        "def bird_flight(bird: Bird):\n",
        "    bird.fly()\n",
        "\n",
        "# Creating objects\n",
        "sparrow = Sparrow()\n",
        "penguin = Penguin()\n",
        "\n",
        "# Calling the same method on different objects\n",
        "bird_flight(sparrow)\n",
        "bird_flight(penguin)\n",
        "\n"
      ],
      "metadata": {
        "colab": {
          "base_uri": "https://localhost:8080/"
        },
        "id": "vLfLJOP-d9gm",
        "outputId": "cb0a5248-bd88-441e-9dbe-6f402e376f3c"
      },
      "execution_count": 5,
      "outputs": [
        {
          "output_type": "stream",
          "name": "stdout",
          "text": [
            "Sparrow flies high in the sky.\n",
            "Penguins can't fly, they swim instead.\n"
          ]
        }
      ]
    },
    {
      "cell_type": "code",
      "source": [
        "#5. Write a program to demonstrate encapsulation by creating a class BankAccount with private attributes balance and methods to deposit, withdraw, and check balance.\n",
        "\n",
        "class BankAccount:\n",
        "    def __init__(self, initial_balance=0):\n",
        "        self.__balance = initial_balance  # Private attribute\n",
        "\n",
        "    def deposit(self, amount):\n",
        "        if amount > 0:\n",
        "            self.__balance += amount\n",
        "            print(f\"Deposited: {amount}\")\n",
        "        else:\n",
        "            print(\"Deposit amount must be positive.\")\n",
        "\n",
        "    def withdraw(self, amount):\n",
        "        if 0 < amount <= self.__balance:\n",
        "            self.__balance -= amount\n",
        "            print(f\"Withdrawn: {amount}\")\n",
        "        else:\n",
        "            print(\"Insufficient balance or invalid amount.\")\n",
        "\n",
        "    def check_balance(self):\n",
        "        print(f\"Current balance: {self.__balance}\")\n",
        "\n",
        "# Example\n",
        "account = BankAccount(1000)\n",
        "account.check_balance()\n",
        "\n",
        "account.deposit(500)\n",
        "account.withdraw(300)\n",
        "account.check_balance()\n"
      ],
      "metadata": {
        "colab": {
          "base_uri": "https://localhost:8080/"
        },
        "id": "EtgqkSQleY0s",
        "outputId": "b0ed00a3-4e5a-444a-d1db-363bba2170be"
      },
      "execution_count": 6,
      "outputs": [
        {
          "output_type": "stream",
          "name": "stdout",
          "text": [
            "Current balance: 1000\n",
            "Deposited: 500\n",
            "Withdrawn: 300\n",
            "Current balance: 1200\n"
          ]
        }
      ]
    },
    {
      "cell_type": "code",
      "source": [
        "#6. Demonstrate runtime polymorphism using a method play() in a base class Instrument. Derive classes Guitar and Piano that implement their own version of play().\n",
        "\n",
        "# Base class\n",
        "class Instrument:\n",
        "    def play(self):\n",
        "        print(\"Playing an instrument...\")\n",
        "\n",
        "# Derived class: Guitar\n",
        "class Guitar(Instrument):\n",
        "    def play(self):\n",
        "        print(\"Strumming the guitar!\")\n",
        "\n",
        "# Derived class: Piano\n",
        "class Piano(Instrument):\n",
        "    def play(self):\n",
        "        print(\"Playing the piano keys!\")\n",
        "\n",
        "# Function to demonstrate polymorphism\n",
        "def perform(instrument: Instrument):\n",
        "    instrument.play()\n",
        "\n",
        "# Example\n",
        "guitar = Guitar()\n",
        "piano = Piano()\n",
        "\n",
        "perform(guitar)\n",
        "perform(piano)"
      ],
      "metadata": {
        "colab": {
          "base_uri": "https://localhost:8080/"
        },
        "id": "vug-jSmpe09r",
        "outputId": "bb0112e7-6d3b-4f29-9b17-71c5b27f57da"
      },
      "execution_count": 7,
      "outputs": [
        {
          "output_type": "stream",
          "name": "stdout",
          "text": [
            "Strumming the guitar!\n",
            "Playing the piano keys!\n"
          ]
        }
      ]
    },
    {
      "cell_type": "code",
      "source": [
        "#7. Create a class MathOperations with a class method add_numbers() to add two numbers and a static method subtract_numbers() to subtract two numbers\n",
        "\n",
        "class MathOperations:\n",
        "    @classmethod\n",
        "    def add_numbers(cls, a, b):\n",
        "        return a + b\n",
        "\n",
        "    @staticmethod\n",
        "    def subtract_numbers(a, b):\n",
        "        return a - b\n",
        "\n",
        "# Example\n",
        "sum_result = MathOperations.add_numbers(10, 5)\n",
        "print(f\"Sum: {sum_result}\")\n",
        "\n",
        "diff_result = MathOperations.subtract_numbers(10, 5)\n",
        "print(f\"Difference: {diff_result}\")"
      ],
      "metadata": {
        "colab": {
          "base_uri": "https://localhost:8080/"
        },
        "id": "FnA9b0UbfJ2g",
        "outputId": "5c866de4-c645-4de1-fed3-7ae4f6f18183"
      },
      "execution_count": 8,
      "outputs": [
        {
          "output_type": "stream",
          "name": "stdout",
          "text": [
            "Sum: 15\n",
            "Difference: 5\n"
          ]
        }
      ]
    },
    {
      "cell_type": "code",
      "source": [
        "#8. Implement a class Person with a class method to count the total number of persons created.\n",
        "\n",
        "class Person:\n",
        "    count = 0  # Class variable to keep track of the number of persons\n",
        "\n",
        "    def __init__(self, name):\n",
        "        self.name = name\n",
        "        Person.count += 1  # Increment the count when a new person is created\n",
        "\n",
        "    @classmethod\n",
        "    def get_person_count(cls):\n",
        "        return cls.count\n",
        "\n",
        "# Example\n",
        "p1 = Person(\"Alice\")\n",
        "p2 = Person(\"Bob\")\n",
        "p3 = Person(\"Charlie\")\n",
        "\n",
        "print(f\"Total Persons Created: {Person.get_person_count()}\")\n"
      ],
      "metadata": {
        "colab": {
          "base_uri": "https://localhost:8080/"
        },
        "id": "psNFfOu7fhmI",
        "outputId": "ca0b381e-fea1-4e99-9fef-701ef904a72c"
      },
      "execution_count": 9,
      "outputs": [
        {
          "output_type": "stream",
          "name": "stdout",
          "text": [
            "Total Persons Created: 3\n"
          ]
        }
      ]
    },
    {
      "cell_type": "code",
      "source": [
        "#9. Write a class Fraction with attributes numerator and denominator. Override the str method to display the fraction as \"numerator/denominator\".\n",
        "\n",
        "class Fraction:\n",
        "    def __init__(self, numerator, denominator):\n",
        "        self.numerator = numerator\n",
        "        self.denominator = denominator\n",
        "\n",
        "    def __str__(self):\n",
        "        return f\"{self.numerator}/{self.denominator}\"\n",
        "\n",
        "# Example\n",
        "fraction = Fraction(3, 4)\n",
        "print(f\"Fraction: {fraction}\")"
      ],
      "metadata": {
        "colab": {
          "base_uri": "https://localhost:8080/"
        },
        "id": "CllUwHmaftxP",
        "outputId": "921893e8-942e-43bd-a7c4-a530eb0f3019"
      },
      "execution_count": 10,
      "outputs": [
        {
          "output_type": "stream",
          "name": "stdout",
          "text": [
            "Fraction: 3/4\n"
          ]
        }
      ]
    },
    {
      "cell_type": "code",
      "source": [
        "# 10. Demonstrate operator overloading by creating a class Vector and overriding the add method to add two vectors.\n",
        "\n",
        "class Vector:\n",
        "    def __init__(self, x, y):\n",
        "        self.x = x\n",
        "        self.y = y\n",
        "\n",
        "    # Overloading\n",
        "    def __add__(self, other):\n",
        "        return Vector(self.x + other.x, self.y + other.y)\n",
        "\n",
        "    def __str__(self):\n",
        "        return f\"({self.x}, {self.y})\"\n",
        "\n",
        "# Example\n",
        "v1 = Vector(3, 3)\n",
        "v2 = Vector(1, 4)\n",
        "\n",
        "# Adding two vectors using overloaded + operator\n",
        "v3 = v1 + v2\n",
        "\n",
        "print(f\"Vector 1: {v1}\")\n",
        "print(f\"Vector 2: {v2}\")\n",
        "print(f\"Sum of Vectors: {v3}\")\n",
        "\n"
      ],
      "metadata": {
        "colab": {
          "base_uri": "https://localhost:8080/"
        },
        "id": "cGCJXm1KgEQV",
        "outputId": "fb6a98d1-3d0c-48d7-d972-46cef6d88847"
      },
      "execution_count": 12,
      "outputs": [
        {
          "output_type": "stream",
          "name": "stdout",
          "text": [
            "Vector 1: (3, 3)\n",
            "Vector 2: (1, 4)\n",
            "Sum of Vectors: (4, 7)\n"
          ]
        }
      ]
    },
    {
      "cell_type": "code",
      "source": [
        "#11. Create a class Person with attributes name and age. Add a method greet() that prints \"Hello, my name is{name} and I am {age} years old.\"\n",
        "\n",
        "class Person:\n",
        "    def __init__(self, name, age):\n",
        "        self.name = name\n",
        "        self.age = age\n",
        "\n",
        "    def greet(self):\n",
        "        print(f\"Hello, my name is {self.name} and I am {self.age} years old.\")\n",
        "\n",
        "# Example\n",
        "person1 = Person(\"Alice\", 23)\n",
        "person1.greet()\n",
        "\n",
        "person2 = Person(\"Bob\", 20)\n",
        "person2.greet()\n"
      ],
      "metadata": {
        "colab": {
          "base_uri": "https://localhost:8080/"
        },
        "id": "_oh2RmvLgV9z",
        "outputId": "455e1e84-2733-4cd0-f6d0-4cdabe54bcb2"
      },
      "execution_count": 13,
      "outputs": [
        {
          "output_type": "stream",
          "name": "stdout",
          "text": [
            "Hello, my name is Alice and I am 23 years old.\n",
            "Hello, my name is Bob and I am 20 years old.\n"
          ]
        }
      ]
    },
    {
      "cell_type": "code",
      "source": [
        "#12. Implement a class Student with attributes name and grades. Create a method average_grade() to compute the average of the grades.\n",
        "\n",
        "class Student:\n",
        "    def __init__(self, name, grades):\n",
        "        self.name = name\n",
        "        self.grades = grades\n",
        "\n",
        "    def average_grade(self):\n",
        "        return sum(self.grades) / len(self.grades) if self.grades else 0\n",
        "\n",
        "# Example usage\n",
        "student1 = Student(\"Alice\", [85, 90, 78, 92])\n",
        "print(f\"{student1.name}'s Average Grade: {student1.average_grade():.2f}\")\n",
        "\n",
        "student2 = Student(\"Bob\", [70, 75, 80])\n",
        "print(f\"{student2.name}'s Average Grade: {student2.average_grade():.2f}\")\n"
      ],
      "metadata": {
        "colab": {
          "base_uri": "https://localhost:8080/"
        },
        "id": "VT_DZNRvjbOm",
        "outputId": "7436a52c-b79d-4fa3-e89f-1ed41f00004f"
      },
      "execution_count": 14,
      "outputs": [
        {
          "output_type": "stream",
          "name": "stdout",
          "text": [
            "Alice's Average Grade: 86.25\n",
            "Bob's Average Grade: 75.00\n"
          ]
        }
      ]
    },
    {
      "cell_type": "code",
      "source": [
        "#13. Create a class Rectangle with methods set_dimensions() to set the dimensions and area() to calculate the area.\n",
        "class Rectangle:\n",
        "    def __init__(self):\n",
        "        self.length = 0\n",
        "        self.width = 0\n",
        "\n",
        "    def set_dimensions(self, length, width):\n",
        "        self.length = length\n",
        "        self.width = width\n",
        "\n",
        "    def area(self):\n",
        "        return self.length * self.width\n",
        "\n",
        "# Example usage\n",
        "rectangle1 = Rectangle()\n",
        "rectangle1.set_dimensions(5, 3)\n",
        "print(f\"Area of Rectangle 1: {rectangle1.area()}\")\n",
        "\n",
        "rectangle2 = Rectangle()\n",
        "rectangle2.set_dimensions(7, 4)\n",
        "print(f\"Area of Rectangle 2: {rectangle2.area()}\")"
      ],
      "metadata": {
        "colab": {
          "base_uri": "https://localhost:8080/"
        },
        "id": "L_-56RH9jxXX",
        "outputId": "ebc7f5b5-17e3-4da4-c85d-2e93c9d9c560"
      },
      "execution_count": 15,
      "outputs": [
        {
          "output_type": "stream",
          "name": "stdout",
          "text": [
            "Area of Rectangle 1: 15\n",
            "Area of Rectangle 2: 28\n"
          ]
        }
      ]
    },
    {
      "cell_type": "code",
      "source": [
        "#14. Create a class Employee with a method calculate_salary() that computes the salary based on hours worked and hourly rate. Create a derived class Manager that adds a bonus to the salary.\n",
        "\n",
        "# Base class: Employee\n",
        "class Employee:\n",
        "    def __init__(self, name, hours_worked, hourly_rate):\n",
        "        self.name = name\n",
        "        self.hours_worked = hours_worked\n",
        "        self.hourly_rate = hourly_rate\n",
        "\n",
        "    def calculate_salary(self):\n",
        "        return self.hours_worked * self.hourly_rate\n",
        "\n",
        "# Derived class: Manager\n",
        "class Manager(Employee):\n",
        "    def __init__(self, name, hours_worked, hourly_rate, bonus):\n",
        "        super().__init__(name, hours_worked, hourly_rate)\n",
        "        self.bonus = bonus\n",
        "\n",
        "    def calculate_salary(self):\n",
        "        base_salary = super().calculate_salary()\n",
        "        return base_salary + self.bonus\n",
        "\n",
        "# Example\n",
        "employee = Employee(\"John\", 40, 20)\n",
        "print(f\"Employee Salary: ${employee.calculate_salary()}\")\n",
        "\n",
        "manager = Manager(\"Alice\", 40, 30, 500)\n",
        "print(f\"Manager Salary: ${manager.calculate_salary()}\")\n"
      ],
      "metadata": {
        "colab": {
          "base_uri": "https://localhost:8080/"
        },
        "id": "qBO13PeykDB3",
        "outputId": "7d2c5808-a8a2-4d89-fdfe-ee12788b4fed"
      },
      "execution_count": 16,
      "outputs": [
        {
          "output_type": "stream",
          "name": "stdout",
          "text": [
            "Employee Salary: $800\n",
            "Manager Salary: $1700\n"
          ]
        }
      ]
    },
    {
      "cell_type": "code",
      "source": [
        "#15. Create a class Product with attributes name, price, and quantity. Implement a method total_price() that calculates the total price of the product.\n",
        "\n",
        "class Product:\n",
        "    def __init__(self, name, price, quantity):\n",
        "        self.name = name\n",
        "        self.price = price\n",
        "        self.quantity = quantity\n",
        "\n",
        "    def total_price(self):\n",
        "        return self.price * self.quantity\n",
        "\n",
        "# Example\n",
        "product1 = Product(\"Laptop\", 1500, 3)\n",
        "print(f\"Total price for {product1.name}: ${product1.total_price()}\")\n",
        "\n",
        "product2 = Product(\"Headphones\", 50, 4)\n",
        "print(f\"Total price for {product2.name}: ${product2.total_price()}\")"
      ],
      "metadata": {
        "colab": {
          "base_uri": "https://localhost:8080/"
        },
        "id": "8cGqvcyTlfC_",
        "outputId": "5699f903-0bbc-4345-e8a2-de1746b18e48"
      },
      "execution_count": 18,
      "outputs": [
        {
          "output_type": "stream",
          "name": "stdout",
          "text": [
            "Total price for Laptop: $4500\n",
            "Total price for Headphones: $200\n"
          ]
        }
      ]
    },
    {
      "cell_type": "code",
      "source": [
        "#16. Create a class Animal with an abstract method sound(). Create two derived classes Cow and Sheep that implement the sound() method.\n",
        "\n",
        "from abc import ABC, abstractmethod\n",
        "\n",
        "# Base class: Animal (abstract)\n",
        "class Animal(ABC):\n",
        "    @abstractmethod\n",
        "    def sound(self):\n",
        "        pass\n",
        "\n",
        "# Derived class: Cow\n",
        "class Cow(Animal):\n",
        "    def sound(self):\n",
        "        print(\"Moo!\")\n",
        "\n",
        "# Derived class: Sheep\n",
        "class Sheep(Animal):\n",
        "    def sound(self):\n",
        "        print(\"Baa!\")\n",
        "\n",
        "# Example\n",
        "cow = Cow()\n",
        "cow.sound()\n",
        "\n",
        "sheep = Sheep()\n",
        "sheep.sound()\n"
      ],
      "metadata": {
        "colab": {
          "base_uri": "https://localhost:8080/"
        },
        "id": "o3JTc7cglxdw",
        "outputId": "bad59eb7-706b-4555-9f6a-246027034102"
      },
      "execution_count": 19,
      "outputs": [
        {
          "output_type": "stream",
          "name": "stdout",
          "text": [
            "Moo!\n",
            "Baa!\n"
          ]
        }
      ]
    },
    {
      "cell_type": "code",
      "source": [
        "#17. Create a class Book with attributes title, author, and year_published. Add a method get_book_info() that returns a formatted string with the book's details.\n",
        "\n",
        "class Book:\n",
        "    def __init__(self, title, author, year_published):\n",
        "        self.title = title\n",
        "        self.author = author\n",
        "        self.year_published = year_published\n",
        "\n",
        "    def get_book_info(self):\n",
        "        return f\"'{self.title}' by {self.author}, published in {self.year_published}\"\n",
        "\n",
        "# Example\n",
        "book1 = Book(\"1984\", \"George Orwell\", 1949)\n",
        "print(book1.get_book_info())\n",
        "\n",
        "book2 = Book(\"To Kill a Mockingbird\", \"Harper Lee\", 1960)\n",
        "print(book2.get_book_info())\n"
      ],
      "metadata": {
        "colab": {
          "base_uri": "https://localhost:8080/"
        },
        "id": "yNfXtwATmhyK",
        "outputId": "12eca075-5f2c-4b7e-8095-e06bcab09abc"
      },
      "execution_count": 20,
      "outputs": [
        {
          "output_type": "stream",
          "name": "stdout",
          "text": [
            "'1984' by George Orwell, published in 1949\n",
            "'To Kill a Mockingbird' by Harper Lee, published in 1960\n"
          ]
        }
      ]
    },
    {
      "cell_type": "code",
      "source": [
        "#18. Create a class House with attributes address and price. Create a derived class Mansion that adds an attribute number_of_rooms.\n",
        "\n",
        "# Base class: House\n",
        "class House:\n",
        "    def __init__(self, address, price):\n",
        "        self.address = address\n",
        "        self.price = price\n",
        "\n",
        "    def get_house_info(self):\n",
        "        return f\"Address: {self.address}, Price: ${self.price}\"\n",
        "\n",
        "# Derived class: Mansion\n",
        "class Mansion(House):\n",
        "    def __init__(self, address, price, number_of_rooms):\n",
        "        super().__init__(address, price)\n",
        "        self.number_of_rooms = number_of_rooms\n",
        "\n",
        "    def get_mansion_info(self):\n",
        "        return f\"{self.get_house_info()}, Rooms: {self.number_of_rooms}\"\n",
        "\n",
        "# Example\n",
        "house = House(\"123 Elm St\", 250000)\n",
        "print(house.get_house_info())\n",
        "\n",
        "mansion = Mansion(\"456 Oak Ave\", 1500000, 10)\n",
        "print(mansion.get_mansion_info())\n"
      ],
      "metadata": {
        "colab": {
          "base_uri": "https://localhost:8080/"
        },
        "id": "1aUeEAAGms7R",
        "outputId": "5830ef16-27e9-449b-dd9a-023f3372f1dd"
      },
      "execution_count": 21,
      "outputs": [
        {
          "output_type": "stream",
          "name": "stdout",
          "text": [
            "Address: 123 Elm St, Price: $250000\n",
            "Address: 456 Oak Ave, Price: $1500000, Rooms: 10\n"
          ]
        }
      ]
    },
    {
      "cell_type": "code",
      "source": [],
      "metadata": {
        "id": "T-FCxZNlnA2A"
      },
      "execution_count": null,
      "outputs": []
    }
  ]
}